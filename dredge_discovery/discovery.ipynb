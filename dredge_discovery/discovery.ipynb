{
 "cells": [
  {
   "cell_type": "markdown",
   "metadata": {},
   "source": [
    "### Discovery"
   ]
  },
  {
   "cell_type": "code",
   "execution_count": 2,
   "metadata": {},
   "outputs": [],
   "source": [
    "from sklearn.model_selection import KFold\n",
    "from sklearn.ensemble import RandomForestRegressor\n",
    "from sklearn.tree import DecisionTreeClassifier\n",
    "from sklearn.neural_network import MLPClassifier\n",
    "from sklearn import svm\n",
    "import numpy as np\n",
    "from catboost import Pool, cv, CatBoostClassifier\n",
    "# import lightgbm as lgb\n",
    "import pandas as pd\n",
    "from sklearn.model_selection import train_test_split\n",
    "import seaborn as sns\n",
    "import matplotlib.pyplot as plt\n"
   ]
  },
  {
   "cell_type": "code",
   "execution_count": 16,
   "metadata": {},
   "outputs": [],
   "source": [
    "def get_misinfo(ls_outlinks, news_clf, misinfo_clf, bias_clf):\n",
    "    if 'url_domain' not in ls_outlinks.columns:\n",
    "        ls_outlinks['url_domain'] = ls_outlinks['url']\n",
    "    # ls_outlinks['is_news'] = news_clf.predict(ls_outlinks.drop(columns='url'))\n",
    "    ls_outlinks['is_news'] = np.logical_or(news_clf.predict(ls_outlinks.drop(columns=['url','url_domain'])),ls_outlinks['url'].str.contains('news')==True)\n",
    "\n",
    "    # print(ls_outlinks.groupby('is_news').describe())\n",
    "    ls_outlinks['is_misinfo'] = misinfo_clf.predict(ls_outlinks.drop(columns=['url','is_news','url_domain']))\n",
    "    # print(ls_news_df.groupby('is_misinfo').describe())\n",
    "    ls_outlinks['is_biased'] = bias_clf.predict(ls_outlinks.drop(columns=['url','is_news','is_misinfo','url_domain']))\n",
    "    return ls_outlinks[['url','is_news','is_misinfo','is_biased']] # [ls_news_df['is_misinfo']==1]\n",
    "\n",
    "def get_misinfo_scores(ls_outlinks, news_clf, misinfo_clf, bias_clf):\n",
    "    if 'url_domain' not in ls_outlinks.columns:\n",
    "        ls_outlinks['url_domain'] = ls_outlinks['url']\n",
    "        \n",
    "    # Get news scores\n",
    "    ls_outlinks['news_score'] = news_clf.predict_proba(\n",
    "        ls_outlinks.drop(columns=['url', 'url_domain'])\n",
    "    )[:, 1]  # Get probability of the positive class\n",
    "    ls_outlinks['is_news'] = np.logical_or(\n",
    "        ls_outlinks['news_score'] > 0.5,  # Threshold for binary classification\n",
    "        ls_outlinks['url'].str.contains('news') == True\n",
    "    )\n",
    "\n",
    "    # Get misinformation scores\n",
    "    ls_outlinks['misinfo_score'] = misinfo_clf.predict_proba(\n",
    "        ls_outlinks.drop(columns=['url', 'url_domain', 'is_news'])\n",
    "    )[:, 1]\n",
    "\n",
    "    # Get bias scores\n",
    "    ls_outlinks['bias_score'] = bias_clf.predict_proba(\n",
    "        ls_outlinks.drop(columns=['url', 'url_domain', 'is_news', 'misinfo_score', 'news_score'])\n",
    "    )[:, 1]\n",
    "\n",
    "    return ls_outlinks[['url', 'news_score', 'misinfo_score', 'bias_score', 'is_news']]\n",
    "\n",
    "\n",
    "news_clf = CatBoostClassifier().load_model('../pretrained_models/model_news_10k_mbfc')\n",
    "misinfo_clf = CatBoostClassifier().load_model('../pretrained_models/model_misinfo_mbfc')\n",
    "bias_clf = CatBoostClassifier().load_model('../pretrained_models/model_bias_mbfc')"
   ]
  },
  {
   "cell_type": "markdown",
   "metadata": {},
   "source": [
    "### Dredge Discovery on MBFC Sites"
   ]
  },
  {
   "cell_type": "code",
   "execution_count": null,
   "metadata": {},
   "outputs": [
    {
     "name": "stderr",
     "output_type": "stream",
     "text": [
      "<ipython-input-32-6059b472ff24>:1: DtypeWarning: Columns (12,14) have mixed types. Specify dtype option on import or set low_memory=False.\n",
      "  keyphrase_df = pd.read_csv('../data/DredgeDiscoveryMBFC/keyphrases.csv')[['domain','Keyword']]\n"
     ]
    },
    {
     "data": {
      "text/plain": [
       "6733"
      ]
     },
     "execution_count": 32,
     "metadata": {},
     "output_type": "execute_result"
    }
   ],
   "source": [
    "keyphrase_df = pd.read_csv('../data/DredgeDiscoveryMBFC/keyphrases.csv')[['domain','Keyword']]\n",
    "serp_results_df = pd.read_csv('../data/DredgeDiscoveryMBFC/serp_results.csv')[['qry','domain']]\n",
    "serp_results_df.columns = ['Keyword','domain_discovered']\n",
    "dredge_discovery_domains_df = pd.merge(keyphrase_df,serp_results_df,on='Keyword',how='inner')\n",
    "dredge_discovery_domains = dredge_discovery_domains_df['domain_discovered'].unique()\n",
    "dredge_seo_attributes = pd.read_csv('../data/DredgeDiscoveryMBFC/seo_attributes_discovered_urls.csv')\n",
    "dredge_seo_attributes = dredge_seo_attributes[dredge_seo_attributes['url'].isin(dredge_discovery_domains)]\n",
    "len(dredge_seo_attributes)"
   ]
  },
  {
   "cell_type": "markdown",
   "metadata": {},
   "source": [
    "If this assert fails, SEO attributes must be pulled for the discovered domains:\n",
    "* see [data collection script](https://github.com/CASOS-IDeaS-CMU/Detection-and-Discovery-of-Misinformation-Sources/tree/master/data_collection)\n",
    "* add to the relevant attribute [dataset](../data/DredgeDiscoveryMBFC/seo_attributes_discovered_urls.csv)"
   ]
  },
  {
   "cell_type": "code",
   "execution_count": null,
   "metadata": {},
   "outputs": [
    {
     "ename": "AssertionError",
     "evalue": "Pull attributes for {nan, 'ww12.shoebattube.com'}",
     "output_type": "error",
     "traceback": [
      "\u001b[0;31m---------------------------------------------------------------------------\u001b[0m",
      "\u001b[0;31mAssertionError\u001b[0m                            Traceback (most recent call last)",
      "\u001b[0;32m<ipython-input-120-579968003c2f>\u001b[0m in \u001b[0;36m<cell line: 3>\u001b[0;34m()\u001b[0m\n\u001b[1;32m      1\u001b[0m \u001b[0;31m# if this assert fails, SEO attributes must be pulled for the discovered domains and added to seo_attributes_discovered_urls.csv\u001b[0m\u001b[0;34m\u001b[0m\u001b[0;34m\u001b[0m\u001b[0;34m\u001b[0m\u001b[0m\n\u001b[1;32m      2\u001b[0m \u001b[0mmissing_domains\u001b[0m \u001b[0;34m=\u001b[0m \u001b[0mset\u001b[0m\u001b[0;34m(\u001b[0m\u001b[0mdredge_discovery_domains\u001b[0m\u001b[0;34m)\u001b[0m \u001b[0;34m-\u001b[0m \u001b[0mset\u001b[0m\u001b[0;34m(\u001b[0m\u001b[0mdredge_seo_attributes\u001b[0m\u001b[0;34m[\u001b[0m\u001b[0;34m'url'\u001b[0m\u001b[0;34m]\u001b[0m\u001b[0;34m.\u001b[0m\u001b[0munique\u001b[0m\u001b[0;34m(\u001b[0m\u001b[0;34m)\u001b[0m\u001b[0;34m)\u001b[0m\u001b[0;34m\u001b[0m\u001b[0;34m\u001b[0m\u001b[0m\n\u001b[0;32m----> 3\u001b[0;31m \u001b[0;32massert\u001b[0m \u001b[0mlen\u001b[0m\u001b[0;34m(\u001b[0m\u001b[0mdredge_seo_attributes\u001b[0m\u001b[0;34m)\u001b[0m \u001b[0;34m==\u001b[0m \u001b[0mlen\u001b[0m\u001b[0;34m(\u001b[0m\u001b[0mdredge_discovery_domains\u001b[0m\u001b[0;34m)\u001b[0m\u001b[0;34m,\u001b[0m \u001b[0;34mf\"Pull attributes for {missing_domains}\"\u001b[0m\u001b[0;34m\u001b[0m\u001b[0;34m\u001b[0m\u001b[0m\n\u001b[0m",
      "\u001b[0;31mAssertionError\u001b[0m: Pull attributes for {nan, 'ww12.shoebattube.com'}"
     ]
    }
   ],
   "source": [
    "missing_domains = set(dredge_discovery_domains) - set(dredge_seo_attributes['url'].unique())\n",
    "assert len(dredge_seo_attributes) == len(dredge_discovery_domains), f\"Pull attributes for {missing_domains}\""
   ]
  },
  {
   "cell_type": "code",
   "execution_count": 34,
   "metadata": {},
   "outputs": [
    {
     "name": "stdout",
     "output_type": "stream",
     "text": [
      "6196\n"
     ]
    },
    {
     "name": "stderr",
     "output_type": "stream",
     "text": [
      "<ipython-input-16-42d534982ea9>:15: SettingWithCopyWarning: \n",
      "A value is trying to be set on a copy of a slice from a DataFrame.\n",
      "Try using .loc[row_indexer,col_indexer] = value instead\n",
      "\n",
      "See the caveats in the documentation: https://pandas.pydata.org/pandas-docs/stable/user_guide/indexing.html#returning-a-view-versus-a-copy\n",
      "  ls_outlinks['url_domain'] = ls_outlinks['url']\n",
      "<ipython-input-16-42d534982ea9>:18: SettingWithCopyWarning: \n",
      "A value is trying to be set on a copy of a slice from a DataFrame.\n",
      "Try using .loc[row_indexer,col_indexer] = value instead\n",
      "\n",
      "See the caveats in the documentation: https://pandas.pydata.org/pandas-docs/stable/user_guide/indexing.html#returning-a-view-versus-a-copy\n",
      "  ls_outlinks['news_score'] = news_clf.predict_proba(\n",
      "<ipython-input-16-42d534982ea9>:21: SettingWithCopyWarning: \n",
      "A value is trying to be set on a copy of a slice from a DataFrame.\n",
      "Try using .loc[row_indexer,col_indexer] = value instead\n",
      "\n",
      "See the caveats in the documentation: https://pandas.pydata.org/pandas-docs/stable/user_guide/indexing.html#returning-a-view-versus-a-copy\n",
      "  ls_outlinks['is_news'] = np.logical_or(\n",
      "<ipython-input-16-42d534982ea9>:27: SettingWithCopyWarning: \n",
      "A value is trying to be set on a copy of a slice from a DataFrame.\n",
      "Try using .loc[row_indexer,col_indexer] = value instead\n",
      "\n",
      "See the caveats in the documentation: https://pandas.pydata.org/pandas-docs/stable/user_guide/indexing.html#returning-a-view-versus-a-copy\n",
      "  ls_outlinks['misinfo_score'] = misinfo_clf.predict_proba(\n",
      "<ipython-input-16-42d534982ea9>:32: SettingWithCopyWarning: \n",
      "A value is trying to be set on a copy of a slice from a DataFrame.\n",
      "Try using .loc[row_indexer,col_indexer] = value instead\n",
      "\n",
      "See the caveats in the documentation: https://pandas.pydata.org/pandas-docs/stable/user_guide/indexing.html#returning-a-view-versus-a-copy\n",
      "  ls_outlinks['bias_score'] = bias_clf.predict_proba(\n"
     ]
    }
   ],
   "source": [
    "# drop MBFC sites from NewsSEO dataset: https://kilthub.cmu.edu/articles/dataset/Dataset_for_Detection_and_Discovery_of_Misinformation_Sources_using_Attributed_Webgraphs_/25174193/1\n",
    "# this filters out known misinformation sites, so we only label those that are not already in the dataset\n",
    "mbfc_domains = pd.read_csv('../data/seo_attributes_mbfc_urls.csv')['url']\n",
    "dredge_seo_attributes_filtered = dredge_seo_attributes[~dredge_seo_attributes['url'].isin(mbfc_domains)]\n",
    "print(len(dredge_seo_attributes_filtered))\n",
    "test_df = get_misinfo_scores(dredge_seo_attributes_filtered, news_clf, misinfo_clf, bias_clf)\n",
    "news_df = test_df[test_df['is_news']]\n",
    "news_df.sort_values(['misinfo_score', 'bias_score'], ascending=False).head(20)['url'].to_csv('top20.csv', index=False)"
   ]
  },
  {
   "cell_type": "code",
   "execution_count": 38,
   "metadata": {},
   "outputs": [
    {
     "name": "stderr",
     "output_type": "stream",
     "text": [
      "<ipython-input-16-42d534982ea9>:5: SettingWithCopyWarning: \n",
      "A value is trying to be set on a copy of a slice from a DataFrame.\n",
      "Try using .loc[row_indexer,col_indexer] = value instead\n",
      "\n",
      "See the caveats in the documentation: https://pandas.pydata.org/pandas-docs/stable/user_guide/indexing.html#returning-a-view-versus-a-copy\n",
      "  ls_outlinks['is_news'] = np.logical_or(news_clf.predict(ls_outlinks.drop(columns=['url','url_domain'])),ls_outlinks['url'].str.contains('news')==True)\n",
      "<ipython-input-16-42d534982ea9>:8: SettingWithCopyWarning: \n",
      "A value is trying to be set on a copy of a slice from a DataFrame.\n",
      "Try using .loc[row_indexer,col_indexer] = value instead\n",
      "\n",
      "See the caveats in the documentation: https://pandas.pydata.org/pandas-docs/stable/user_guide/indexing.html#returning-a-view-versus-a-copy\n",
      "  ls_outlinks['is_misinfo'] = misinfo_clf.predict(ls_outlinks.drop(columns=['url','is_news','url_domain']))\n",
      "<ipython-input-16-42d534982ea9>:10: SettingWithCopyWarning: \n",
      "A value is trying to be set on a copy of a slice from a DataFrame.\n",
      "Try using .loc[row_indexer,col_indexer] = value instead\n",
      "\n",
      "See the caveats in the documentation: https://pandas.pydata.org/pandas-docs/stable/user_guide/indexing.html#returning-a-view-versus-a-copy\n",
      "  ls_outlinks['is_biased'] = bias_clf.predict(ls_outlinks.drop(columns=['url','is_news','is_misinfo','url_domain']))\n"
     ]
    },
    {
     "data": {
      "application/vnd.microsoft.datawrangler.viewer.v0+json": {
       "columns": [
        {
         "name": "index",
         "rawType": "object",
         "type": "string"
        },
        {
         "name": "is_misinfo",
         "rawType": "float64",
         "type": "float"
        },
        {
         "name": "is_biased",
         "rawType": "float64",
         "type": "float"
        }
       ],
       "conversionMethod": "pd.DataFrame",
       "ref": "3caa4253-ffb2-4202-8620-1751ad1ffa5a",
       "rows": [
        [
         "count",
         "2809.0",
         "2809.0"
        ],
        [
         "mean",
         "1.0",
         "1.0"
        ],
        [
         "std",
         "0.0",
         "0.0"
        ],
        [
         "min",
         "1.0",
         "1.0"
        ],
        [
         "25%",
         "1.0",
         "1.0"
        ],
        [
         "50%",
         "1.0",
         "1.0"
        ],
        [
         "75%",
         "1.0",
         "1.0"
        ],
        [
         "max",
         "1.0",
         "1.0"
        ]
       ],
       "shape": {
        "columns": 2,
        "rows": 8
       }
      },
      "text/html": [
       "<div>\n",
       "<style scoped>\n",
       "    .dataframe tbody tr th:only-of-type {\n",
       "        vertical-align: middle;\n",
       "    }\n",
       "\n",
       "    .dataframe tbody tr th {\n",
       "        vertical-align: top;\n",
       "    }\n",
       "\n",
       "    .dataframe thead th {\n",
       "        text-align: right;\n",
       "    }\n",
       "</style>\n",
       "<table border=\"1\" class=\"dataframe\">\n",
       "  <thead>\n",
       "    <tr style=\"text-align: right;\">\n",
       "      <th></th>\n",
       "      <th>is_misinfo</th>\n",
       "      <th>is_biased</th>\n",
       "    </tr>\n",
       "  </thead>\n",
       "  <tbody>\n",
       "    <tr>\n",
       "      <th>count</th>\n",
       "      <td>2809.0</td>\n",
       "      <td>2809.0</td>\n",
       "    </tr>\n",
       "    <tr>\n",
       "      <th>mean</th>\n",
       "      <td>1.0</td>\n",
       "      <td>1.0</td>\n",
       "    </tr>\n",
       "    <tr>\n",
       "      <th>std</th>\n",
       "      <td>0.0</td>\n",
       "      <td>0.0</td>\n",
       "    </tr>\n",
       "    <tr>\n",
       "      <th>min</th>\n",
       "      <td>1.0</td>\n",
       "      <td>1.0</td>\n",
       "    </tr>\n",
       "    <tr>\n",
       "      <th>25%</th>\n",
       "      <td>1.0</td>\n",
       "      <td>1.0</td>\n",
       "    </tr>\n",
       "    <tr>\n",
       "      <th>50%</th>\n",
       "      <td>1.0</td>\n",
       "      <td>1.0</td>\n",
       "    </tr>\n",
       "    <tr>\n",
       "      <th>75%</th>\n",
       "      <td>1.0</td>\n",
       "      <td>1.0</td>\n",
       "    </tr>\n",
       "    <tr>\n",
       "      <th>max</th>\n",
       "      <td>1.0</td>\n",
       "      <td>1.0</td>\n",
       "    </tr>\n",
       "  </tbody>\n",
       "</table>\n",
       "</div>"
      ],
      "text/plain": [
       "       is_misinfo  is_biased\n",
       "count      2809.0     2809.0\n",
       "mean          1.0        1.0\n",
       "std           0.0        0.0\n",
       "min           1.0        1.0\n",
       "25%           1.0        1.0\n",
       "50%           1.0        1.0\n",
       "75%           1.0        1.0\n",
       "max           1.0        1.0"
      ]
     },
     "execution_count": 38,
     "metadata": {},
     "output_type": "execute_result"
    }
   ],
   "source": [
    "test_df = get_misinfo(dredge_seo_attributes_filtered, news_clf, misinfo_clf, bias_clf, )#,'../data/ls_outlinks.csv')#'common_crawl_small_sample.csv')\n",
    "discovered_misinfo_full = test_df.query('is_misinfo == 1 & is_biased == 1')\n",
    "discovered_misinfo_full.describe()"
   ]
  },
  {
   "cell_type": "markdown",
   "metadata": {},
   "source": [
    "### Dredge Discovery on Politifact Sites (Partial F1 Metrics)"
   ]
  },
  {
   "cell_type": "code",
   "execution_count": 130,
   "metadata": {},
   "outputs": [
    {
     "data": {
      "text/plain": [
       "7002"
      ]
     },
     "execution_count": 130,
     "metadata": {},
     "output_type": "execute_result"
    }
   ],
   "source": [
    "politifact_keyphrase_df = pd.read_csv('../data/DredgeDiscoveryPolitifact/keyphrases.csv', encoding='latin-1')\n",
    "politifact_keyphrase_df['domain'] = politifact_keyphrase_df['Current URL'].str.replace('https://','').str.replace('http://','').str.replace('www.','').str.split('/').str[0]\n",
    "politifact_keyphrase_df = politifact_keyphrase_df[['domain','Keyword']]\n",
    "politifact_serp_results_df = pd.read_csv('../data/DredgeDiscoveryPolitifact/serp_results.csv')[['qry','url']]\n",
    "politifact_serp_results_df['url'] = politifact_serp_results_df['url'].str.replace('https://','').str.replace('http://','').str.replace('www.','').str.split('/').str[0]\n",
    "politifact_serp_results_df.columns = ['Keyword','domain_discovered']\n",
    "# politifact_discovery_domains_df = pd.merge(politifact_keyphrase_df,politifact_serp_results_df,on='Keyword',how='inner')\n",
    "politifact_discovery_domains = politifact_serp_results_df['domain_discovered'].unique()\n",
    "\n",
    "politifact_discovered_attributes = pd.read_csv('../data/DredgeDiscoveryPolitifact/seo_attributes_discovered_urls.csv')\n",
    "politifact_discovered_attributes = politifact_discovered_attributes[politifact_discovered_attributes['url'].isin(politifact_discovery_domains)]\n",
    "len(politifact_discovered_attributes)"
   ]
  },
  {
   "cell_type": "markdown",
   "metadata": {},
   "source": [
    "If this assert fails, SEO attributes must be pulled for the discovered domains:\n",
    "* see [data collection script](https://github.com/CASOS-IDeaS-CMU/Detection-and-Discovery-of-Misinformation-Sources/tree/master/data_collection)\n",
    "* add to the relevant attribute [dataset](../data/DredgeDiscoveryPolitifact/seo_attributes_discovered_urls.csv)"
   ]
  },
  {
   "cell_type": "code",
   "execution_count": 131,
   "metadata": {},
   "outputs": [
    {
     "ename": "AssertionError",
     "evalue": "Pull attributes for {nan, '', 'ncwb.uscourts.gov', 'ncdhhs.gov', 'indianaautismalliance.org', 'jewishsantabarbara.org', 'markusproducts.com', 'alternativecolognetours.com', 'ftp:'}",
     "output_type": "error",
     "traceback": [
      "\u001b[0;31m---------------------------------------------------------------------------\u001b[0m",
      "\u001b[0;31mAssertionError\u001b[0m                            Traceback (most recent call last)",
      "\u001b[0;32m<ipython-input-131-623c7013329a>\u001b[0m in \u001b[0;36m<cell line: 2>\u001b[0;34m()\u001b[0m\n\u001b[1;32m      1\u001b[0m \u001b[0mmissing_domains\u001b[0m \u001b[0;34m=\u001b[0m \u001b[0mset\u001b[0m\u001b[0;34m(\u001b[0m\u001b[0mpolitifact_discovery_domains\u001b[0m\u001b[0;34m)\u001b[0m \u001b[0;34m-\u001b[0m \u001b[0mset\u001b[0m\u001b[0;34m(\u001b[0m\u001b[0mpolitifact_discovered_attributes\u001b[0m\u001b[0;34m[\u001b[0m\u001b[0;34m'url'\u001b[0m\u001b[0;34m]\u001b[0m\u001b[0;34m.\u001b[0m\u001b[0munique\u001b[0m\u001b[0;34m(\u001b[0m\u001b[0;34m)\u001b[0m\u001b[0;34m)\u001b[0m\u001b[0;34m\u001b[0m\u001b[0;34m\u001b[0m\u001b[0m\n\u001b[0;32m----> 2\u001b[0;31m \u001b[0;32massert\u001b[0m \u001b[0mlen\u001b[0m\u001b[0;34m(\u001b[0m\u001b[0mmissing_domains\u001b[0m\u001b[0;34m)\u001b[0m \u001b[0;34m==\u001b[0m \u001b[0;36m0\u001b[0m\u001b[0;34m,\u001b[0m \u001b[0;34mf\"Pull attributes for {missing_domains}\"\u001b[0m\u001b[0;34m\u001b[0m\u001b[0;34m\u001b[0m\u001b[0m\n\u001b[0m",
      "\u001b[0;31mAssertionError\u001b[0m: Pull attributes for {nan, '', 'ncwb.uscourts.gov', 'ncdhhs.gov', 'indianaautismalliance.org', 'jewishsantabarbara.org', 'markusproducts.com', 'alternativecolognetours.com', 'ftp:'}"
     ]
    }
   ],
   "source": [
    "missing_domains = set(politifact_discovery_domains) - set(politifact_discovered_attributes['url'].unique())\n",
    "assert len(missing_domains) == 0, f\"Pull attributes for {missing_domains}\""
   ]
  },
  {
   "cell_type": "code",
   "execution_count": null,
   "metadata": {},
   "outputs": [
    {
     "name": "stdout",
     "output_type": "stream",
     "text": [
      "79\n",
      "21\n",
      "21\n"
     ]
    }
   ],
   "source": [
    "# Double checking that all politifact serp results are from politifact list\n",
    "politifact_serp_results_df = pd.read_csv('../data/DredgeDiscoveryPolitifact/serp_results.csv')[['qry','url','domain']]\n",
    "pf_domains = pd.read_csv('../data/PoliticalNewsDataset/domains.csv')\n",
    "pf_domains = pf_domains[pf_domains[\" fake\"] == 1]\n",
    "kp_domains = politifact_serp_results_df['domain'].unique()\n",
    "# count overlap\n",
    "overlap = len(set(kp_domains).intersection(set(pf_domains['url'])))\n",
    "print(len(pf_domains))\n",
    "print(len(kp_domains))\n",
    "print(overlap)"
   ]
  },
  {
   "cell_type": "code",
   "execution_count": 134,
   "metadata": {},
   "outputs": [
    {
     "data": {
      "application/vnd.microsoft.datawrangler.viewer.v0+json": {
       "columns": [
        {
         "name": "index",
         "rawType": "object",
         "type": "string"
        },
        {
         "name": "is_misinfo",
         "rawType": "float64",
         "type": "float"
        },
        {
         "name": "is_biased",
         "rawType": "float64",
         "type": "float"
        }
       ],
       "conversionMethod": "pd.DataFrame",
       "ref": "c0678b05-5a18-4626-b6aa-45856bbe3fc8",
       "rows": [
        [
         "count",
         "392.0",
         "392.0"
        ],
        [
         "mean",
         "1.0",
         "1.0"
        ],
        [
         "std",
         "0.0",
         "0.0"
        ],
        [
         "min",
         "1.0",
         "1.0"
        ],
        [
         "25%",
         "1.0",
         "1.0"
        ],
        [
         "50%",
         "1.0",
         "1.0"
        ],
        [
         "75%",
         "1.0",
         "1.0"
        ],
        [
         "max",
         "1.0",
         "1.0"
        ]
       ],
       "shape": {
        "columns": 2,
        "rows": 8
       }
      },
      "text/html": [
       "<div>\n",
       "<style scoped>\n",
       "    .dataframe tbody tr th:only-of-type {\n",
       "        vertical-align: middle;\n",
       "    }\n",
       "\n",
       "    .dataframe tbody tr th {\n",
       "        vertical-align: top;\n",
       "    }\n",
       "\n",
       "    .dataframe thead th {\n",
       "        text-align: right;\n",
       "    }\n",
       "</style>\n",
       "<table border=\"1\" class=\"dataframe\">\n",
       "  <thead>\n",
       "    <tr style=\"text-align: right;\">\n",
       "      <th></th>\n",
       "      <th>is_misinfo</th>\n",
       "      <th>is_biased</th>\n",
       "    </tr>\n",
       "  </thead>\n",
       "  <tbody>\n",
       "    <tr>\n",
       "      <th>count</th>\n",
       "      <td>392.0</td>\n",
       "      <td>392.0</td>\n",
       "    </tr>\n",
       "    <tr>\n",
       "      <th>mean</th>\n",
       "      <td>1.0</td>\n",
       "      <td>1.0</td>\n",
       "    </tr>\n",
       "    <tr>\n",
       "      <th>std</th>\n",
       "      <td>0.0</td>\n",
       "      <td>0.0</td>\n",
       "    </tr>\n",
       "    <tr>\n",
       "      <th>min</th>\n",
       "      <td>1.0</td>\n",
       "      <td>1.0</td>\n",
       "    </tr>\n",
       "    <tr>\n",
       "      <th>25%</th>\n",
       "      <td>1.0</td>\n",
       "      <td>1.0</td>\n",
       "    </tr>\n",
       "    <tr>\n",
       "      <th>50%</th>\n",
       "      <td>1.0</td>\n",
       "      <td>1.0</td>\n",
       "    </tr>\n",
       "    <tr>\n",
       "      <th>75%</th>\n",
       "      <td>1.0</td>\n",
       "      <td>1.0</td>\n",
       "    </tr>\n",
       "    <tr>\n",
       "      <th>max</th>\n",
       "      <td>1.0</td>\n",
       "      <td>1.0</td>\n",
       "    </tr>\n",
       "  </tbody>\n",
       "</table>\n",
       "</div>"
      ],
      "text/plain": [
       "       is_misinfo  is_biased\n",
       "count       392.0      392.0\n",
       "mean          1.0        1.0\n",
       "std           0.0        0.0\n",
       "min           1.0        1.0\n",
       "25%           1.0        1.0\n",
       "50%           1.0        1.0\n",
       "75%           1.0        1.0\n",
       "max           1.0        1.0"
      ]
     },
     "execution_count": 134,
     "metadata": {},
     "output_type": "execute_result"
    }
   ],
   "source": [
    "test_df = get_misinfo(politifact_discovered_attributes, news_clf, misinfo_clf, bias_clf)\n",
    "politifact_discovered_misinfo = test_df.query('is_news == 1 & is_misinfo == 1 & is_biased == 1')\n",
    "politifact_discovered_misinfo.describe()\n",
    "# discovered_misinfo_full.sample(50).to_csv(\"serp_discovery_results_sample.csv\",index=False)"
   ]
  },
  {
   "cell_type": "code",
   "execution_count": 135,
   "metadata": {},
   "outputs": [
    {
     "name": "stdout",
     "output_type": "stream",
     "text": [
      "Dredge discovery on Politifact URLs: \n",
      " {'Partial F1': 0.11397557666214382, 'Partial Precision': 0.21428571428571427, 'Partial Recall': 0.07763401109057301}\n"
     ]
    }
   ],
   "source": [
    "def compute_partial_f1(actual_domains, predicted_domains):\n",
    "    # Calculate partial true positive (pTP)\n",
    "    pTP = len(set(predicted_domains) & set(actual_domains))\n",
    "    \n",
    "    # Calculate partial false positive (pFP)\n",
    "    pFP = len(set(predicted_domains) - set(actual_domains))\n",
    "    \n",
    "    # Calculate partial false negative (pFN)\n",
    "    pFN = len(set(actual_domains) - set(predicted_domains))\n",
    "    \n",
    "    # Calculate partial precision (pP)\n",
    "    if pTP + pFP > 0:\n",
    "        pP = pTP / (pTP + pFP)\n",
    "    else:\n",
    "        pP = 0.0\n",
    "    \n",
    "    # Calculate partial recall (pR)\n",
    "    if pTP + pFN > 0:\n",
    "        pR = pTP / (pTP + pFN)\n",
    "    else:\n",
    "        pR = 0.0\n",
    "    \n",
    "    # Calculate partial F1 score (pF1)\n",
    "    if pP + pR > 0:\n",
    "        pF1 = 2 * ((pP * pR) / (pP + pR))\n",
    "    else:\n",
    "        pF1 = 0.0\n",
    "    \n",
    "    return {'Partial F1': pF1, 'Partial Precision':pP, 'Partial Recall': pR}\n",
    "\n",
    "df_mbfc_full = pd.read_csv('../data/seo_attributes_mbfc_urls.csv')\n",
    "df_mbfc = df_mbfc_full[df_mbfc_full['source'].str.contains('MBFC')]\n",
    "df_mbfc = df_mbfc[df_mbfc['label']<=4]\n",
    "print(\"Dredge discovery on Politifact URLs: \\n\", compute_partial_f1(df_mbfc['url'], politifact_discovered_misinfo['url']))\n",
    "# print(\"Dredge discovery on full MBFC URLs: \\n\", compute_partial_f1(df_mbfc['url'], dredge_discovery_domains))"
   ]
  },
  {
   "cell_type": "markdown",
   "metadata": {},
   "source": [
    "### GNN Discovery\n",
    "Here we take reliability predictions on unlabeled nodes in the GNN, and show how partial F1, recall and precision metrics relate to model confidence."
   ]
  },
  {
   "cell_type": "code",
   "execution_count": null,
   "metadata": {},
   "outputs": [
    {
     "name": "stdout",
     "output_type": "stream",
     "text": [
      "0.0        0.19       0.12       0.41      \n",
      "0.05       0.19       0.12       0.41      \n",
      "0.1        0.19       0.13       0.41      \n",
      "0.15       0.2        0.13       0.4       \n",
      "0.2        0.2        0.13       0.4       \n",
      "0.25       0.2        0.14       0.4       \n",
      "0.3        0.2        0.14       0.4       \n",
      "0.35       0.21       0.14       0.39      \n",
      "0.4        0.21       0.15       0.39      \n",
      "0.45       0.22       0.16       0.38      \n",
      "0.5        0.23       0.17       0.37      \n",
      "0.55       0.24       0.18       0.35      \n",
      "0.6        0.24       0.19       0.32      \n",
      "0.65       0.24       0.21       0.28      \n",
      "0.7        0.23       0.23       0.23      \n",
      "0.75       0.19       0.23       0.16      \n",
      "0.8        0.13       0.24       0.09      \n",
      "0.85       0.07       0.24       0.04      \n",
      "0.9        0.02       0.17       0.01      \n",
      "0.95       0.0        0.0        0.0       \n"
     ]
    }
   ],
   "source": [
    "import pandas as pd\n",
    "\n",
    "discovered_urls = pd.read_csv(\"../data/GNNDiscovery/polit_gnn_preds.csv\")[['nodes','confidence','preds']]\n",
    "\n",
    "def flip_conf(row):\n",
    "    if row['preds'] == 1:\n",
    "        row['confidence'] = 1 - row['confidence']\n",
    "    return row\n",
    "\n",
    "discovered_urls = discovered_urls.apply(flip_conf, axis=1)\n",
    "# discovered_urls = discovered_urls[discovered_urls['preds']==0]\n",
    "\n",
    "discovered_urls.columns=['url','confidence','preds']\n",
    "results = []\n",
    "thresholds = np.arange(0, 1, 0.05)\n",
    "for threshold in thresholds:\n",
    "    res = compute_partial_f1(df_mbfc['url'], discovered_urls[discovered_urls['confidence']>threshold]['url'])\n",
    "    res['threshold'] = threshold\n",
    "    results.append(res)\n",
    "    print (\"{:<10} {:<10} {:<10} {:<10}\".format(round(threshold, 2), \n",
    "        round(res['Partial F1'], 2), round(res['Partial Precision'], 2), round(res['Partial Recall'], 2)))\n",
    "\n",
    "\n",
    "# res_df.to_csv(res_name, index=False)"
   ]
  },
  {
   "cell_type": "code",
   "execution_count": 110,
   "metadata": {},
   "outputs": [
    {
     "data": {
      "image/png": "[encoded data removed]",
      "text/plain": [
       "<Figure size 432x288 with 1 Axes>"
      ]
     },
     "metadata": {
      "needs_background": "light"
     },
     "output_type": "display_data"
    }
   ],
   "source": [
    "res_df = pd.DataFrame(results, index=None)\n",
    "res_df.columns = ['F1', 'P', 'R', 'Confidence']\n",
    "sns.lineplot(data=res_df, x='Confidence', y='R', label='Partial Recall')\n",
    "sns.lineplot(data=res_df, x='Confidence', y='P', label='P. Precision')\n",
    "sns.lineplot(data=res_df, x='Confidence', y='F1', label='P. F1-Score')\n",
    "plt.axhline(y=0.245, color='gray', linestyle='--', label='P. F1 baseline')\n",
    "plt.legend(loc='upper right')\n",
    "plt.title('GNN Discovery Performance')\n",
    "plt.ylabel('Measure')\n",
    "plt.savefig('discovery_performance_sm_seo.png', dpi=300, bbox_inches='tight')"
   ]
  }
 ],
 "metadata": {
  "kernelspec": {
   "display_name": "websearcher",
   "language": "python",
   "name": "python3"
  },
  "language_info": {
   "codemirror_mode": {
    "name": "ipython",
    "version": 3
   },
   "file_extension": ".py",
   "mimetype": "text/x-python",
   "name": "python",
   "nbconvert_exporter": "python",
   "pygments_lexer": "ipython3",
   "version": "3.8.19"
  },
  "orig_nbformat": 4
 },
 "nbformat": 4,
 "nbformat_minor": 2
}
